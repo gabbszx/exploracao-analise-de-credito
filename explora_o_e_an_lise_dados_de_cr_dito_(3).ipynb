{
  "cells": [
    {
      "cell_type": "markdown",
      "metadata": {
        "id": "view-in-github",
        "colab_type": "text"
      },
      "source": [
        "<a href=\"https://colab.research.google.com/github/gabbszx/exploracao-analise-de-credito/blob/main/explora_o_e_an_lise_dados_de_cr_dito_(3).ipynb\" target=\"_parent\"><img src=\"https://colab.research.google.com/assets/colab-badge.svg\" alt=\"Open In Colab\"/></a>"
      ]
    },
    {
      "cell_type": "markdown",
      "id": "728260a9",
      "metadata": {
        "papermill": {
          "duration": 0.01309,
          "end_time": "2022-11-26T17:02:45.829249",
          "exception": false,
          "start_time": "2022-11-26T17:02:45.816159",
          "status": "completed"
        },
        "tags": [],
        "id": "728260a9"
      },
      "source": [
        "#EXPLORAÇÃO E ANÁLISE DE DADOS DE CRÉDITOS COM SQL\n"
      ]
    },
    {
      "cell_type": "markdown",
      "id": "6ceab1f0",
      "metadata": {
        "papermill": {
          "duration": 0.010319,
          "end_time": "2022-11-26T17:02:45.850811",
          "exception": false,
          "start_time": "2022-11-26T17:02:45.840492",
          "status": "completed"
        },
        "tags": [],
        "id": "6ceab1f0"
      },
      "source": [
        "# Dados utilizados:\n",
        "\n",
        "Os dados apresentados são de clientes de um banco e apresentam as seguintes tabelas:\n",
        "\n",
        "* idade = idade do cliente\n",
        "* sexo = sexo do cliente (F ou M)\n",
        "* dependentes = número de dependentes do cliente\n",
        "* escolaridade = nível de escolaridade do clientes\n",
        "* salario_anual = faixa salarial do cliente\n",
        "* tipo_cartao = tipo de cartao do cliente\n",
        "* qtd_produtos = quantidade de produtos comprados nos últimos 12 meses\n",
        "* iteracoes_12m = quantidade de iterações/transacoes nos ultimos 12 meses\n",
        "* meses_inativo_12m = quantidade de meses que o cliente ficou inativo\n",
        "* limite_credito = limite de credito do cliente\n",
        "* valor_transacoes_12m = valor das transações dos ultimos 12 meses\n",
        "* qtd_transacoes_12m = quantidade de transacoes dos ultimos 12 meses\n",
        "\n",
        ">A tabela foi criada no AWS Athena junto com o S3 Bucket com uma versão dos dados disponibilizados em: https://github.com/andre-marcos-perez/ebac-course-utils/tree/main/dataset"
      ]
    },
    {
      "cell_type": "markdown",
      "id": "79dd7d4c",
      "metadata": {
        "papermill": {
          "duration": 0.010095,
          "end_time": "2022-11-26T17:02:45.871854",
          "exception": false,
          "start_time": "2022-11-26T17:02:45.861759",
          "status": "completed"
        },
        "tags": [],
        "id": "79dd7d4c"
      },
      "source": [
        "# Exploração de dados \n",
        "\n",
        "A primeira fase é importante conhecer com o que estamos trabalhando. Vamos explorar os dados."
      ]
    },
    {
      "cell_type": "markdown",
      "id": "07b1c53e",
      "metadata": {
        "papermill": {
          "duration": 0.010188,
          "end_time": "2022-11-26T17:02:45.892552",
          "exception": false,
          "start_time": "2022-11-26T17:02:45.882364",
          "status": "completed"
        },
        "tags": [],
        "id": "07b1c53e"
      },
      "source": [
        "**Para começar, iremos descobrir qual é a quantidade de informações que estamos explorando base de dados:**\n",
        "\n",
        "> Query: SELECT COUNT (*) as linhas FROM credito\n",
        "\n",
        "![image.png](attachment:af53696c-fab7-47dc-a9ad-5782a697d6ea.png)\n",
        "\n",
        "> É possível analisar que a resposta foi 2564 linhas, porém na base de dados que pode ser encontrada no link indicado, são econtrados mais linhas do que na resposta, já que não foram usadas todas, em razão de limites financeiros e computacionais.\n",
        "\n",
        "\n",
        "**Como são os dados?**\n",
        "> Query: SELECT * FROM credito LIMIT 7;\n",
        "\n",
        "![image.png](attachment:3cf78c9a-30b6-46b7-ab90-e21197990fe3.png)\n",
        "> Podemos observar que alguns dados ficaram nulos(na), vamos nos aprofundar.\n",
        "\n",
        "**Quais são os tipos de cada dados?**\n",
        "> Query: Describe credito;\n",
        "\n",
        "![image.png](attachment:cbfdf229-df4e-49f9-b572-13beb59d02c1.png)\n",
        "> Uma forma mais detalhada de visualizar quais são os tipos de dados que vamos analisar.\n",
        "\n",
        "**Quais são os tipos de escolaridade disponíveis no dataset?**\n",
        "> Query: SELECT DISTINCT escolaridade FROM credito\n",
        "\n",
        "![image.png](attachment:8557ba26-ee46-4539-8669-610fd3415cc4.png)\n",
        "\n",
        "> Com a visualização do gráfico pizza criado no google sheets, podemos observar que existe nulo(na) nos valores de escolaridade.\n",
        "\n",
        "**Quais são os tipos de salario_anual disponíveis no dataset?**\n",
        "> Query: SELECT DISTINCT salario_anual FROM credito\n",
        "\n",
        "![image.png](attachment:cba09206-79cb-47b7-9684-b470dbb51c62.png)\n",
        "\n",
        "> No resultado da query é possível identificar valores nulos \n",
        "\n",
        "**Quais são os tipos cartões utilizados?**\n",
        "> Query: SELECT DISTINCT tipo_cartao FROM credito\n",
        "\n",
        "![image.png](attachment:2af8a4f8-8f81-4201-9d02-85cfb52e76ef.png)\n",
        "> O resultado mostra os tipos de cartões que podem ser encontrados no banco.\n",
        "\n",
        "**Quais são os tipos de estado_civil disponíveis no dataset?**\n",
        "> Query: SELECT DISTINCT estado_civil FROM credito\n",
        "\n",
        "![image.png](attachment:3bebd543-46c6-4253-838c-a1540b6b3e6c.png)\n",
        "\n",
        "> Nos valores encontrados no estado civil dos clientes, é possível visualizar um valor nulo(na).\n",
        "\n",
        "\n",
        "\n"
      ]
    },
    {
      "cell_type": "markdown",
      "id": "b64d4340",
      "metadata": {
        "papermill": {
          "duration": 0.010251,
          "end_time": "2022-11-26T17:02:45.913277",
          "exception": false,
          "start_time": "2022-11-26T17:02:45.903026",
          "status": "completed"
        },
        "tags": [],
        "id": "b64d4340"
      },
      "source": [
        "# Análise de dados\n",
        "Já que passamos pela fase de explorar os dados e buscar com quais informações estamos lidando, agora podemos analisar e fazer relações para no final ter bons insight.\n",
        "\n",
        "\n",
        "**No Banco de Dados, qual é a quantidade de clientes por sexo?**\n",
        "\n",
        "\n",
        "> Query: select count (sexo) as quantidade_por_sexo, sexo\n",
        "from credito\n",
        "group by sexo;\n",
        "\n",
        "![image.png](attachment:9f9b1761-3c16-4aa4-aeb4-23e2f28a8a7d.png)\n",
        "> Podemos ver que o gráfico feito no excel pelo resultado da query mostrou uma predominância do sexo masculino no dataset. \n",
        "\n",
        "**Precisamos saber qual é faixa étaria dos clientes do banco, qual é a média da idade por sexo?**\n",
        "> select sexo, avg(idade) as media_idade\n",
        "from credito\n",
        "group by sexo;\n",
        "\n",
        "![image.png](attachment:3e5dacc1-b7a4-4005-b212-272836d71d4b.png)\n",
        "> Com o gráfico pizza criado no Excel, conseguimos analisar que não existe uma discrepância em relação a média da idade dos clientes, ficando entre 45 - 46 anos.\n",
        "\n",
        "**Qual é a quantidade de clientes por escolaridade no dataset?** \n",
        "> Query:select count (escolaridade), escolaridade\n",
        "from credito\n",
        "where escolaridade !='na'\n",
        "group by escolaridade;\n",
        "\n",
        "!![image.png](attachment:0aecd6b6-c8af-448d-a2c2-0603b41158c8.png)\n",
        "> Com esse resultado é possível observar que a maior quantidade de clientes por escolaridade é o do mestrado com 810 pessoas. Além disso, podemos fazer a relação com a escolaridade e o sexo do cliente.\n",
        "\n",
        "**Agora queremos descobrir a relação da escolaridade e o sexo do cliente:**\n",
        "> Query: select count (escolaridade) as quantidade, escolaridade, sexo\n",
        "from credito\n",
        "where escolaridade !='na'\n",
        "group by escolaridade, sexo;\n",
        "\n",
        "\n",
        "\n",
        "![image.png](attachment:81bfb15f-4390-4081-8a17-9ca7731c6ccd.png)\n",
        "> Podemos analisar que, com o resultado da query anterior, dos 810 em mestrado, 487 são do sexo masculino e 323 femenino, sendo o sexo femenino minoria em todos os tipos de escolaridade.\n",
        "\n",
        "\n",
        "**Queremos descobrir quanto cada sexo recebe no salario_anual, qual é o salario anual por sexo encontrado no Banco de Dados?**\n",
        ">select sexo, salario_anual, count (sexo) as quantidade\n",
        "from credito\n",
        "where escolaridade !='na' and salario_anual !='na'\n",
        "group by salario_anual, sexo;\n",
        "\n",
        "\n",
        "![image.png](attachment:b293831c-8f5a-4df2-b3bd-294ae104c687.png)\n",
        ">o retorno da query mostra que o sexo feminino recebe o menor salario anual,fica como observsação o motivo disso, será que é um fator cultural, onde as mulheres recebem menos que os homens, além disso, o fato de receberem um salario anual menor, possui influência no valor de transações nos últimos 12meses?. Ademais, vale ressaltar que a maior quantidade de clientes por faixa salarial encontrada foram os que recebem menos de $40k, será que a empresa deveria dá uma atenção a mais nesse público já que são a maioria?\n",
        "\n",
        "\n",
        "**Será que o valor do salário impacta no tipo de cartão?**\n",
        ">select count (tipo_cartao), salario_anual, tipo_cartao\n",
        "from credito\n",
        "where salario_anual !='na'\n",
        "group by tipo_cartao, salario_anual;\n",
        "\n",
        "![image.png](attachment:70627597-1a59-4886-8f44-415ba97b66fb.png)\n",
        "> Podemos concluir que o cartão tipo blue está em grande quantidade em todas categorias salariais, e o platinum apenas na faixa salarial entre $80K-$120K, não sendo presente nas menores faixas salarais.\n",
        "\n",
        "**Quais são os valores de transacoes nos ultimos 12 meses por sexo?**\n",
        "> select sexo, min (valor_transacoes_12m) as valor_minimo, max (valor_transacoes_12m) as valor_maximo\n",
        "from credito\n",
        "group by sexo;\n",
        "\n",
        "\n",
        "![image.png](attachment:f89ed537-1cf1-4e69-bb8d-14103a636416.png)\n",
        "> Os valores de transacoes feitas nos ultimos 12 meses por cada sexo, não apresenta muito uma relação, já que, mesmo o sexo femenino(F) recebendo um salario anual consideravelmente menor, o maior valor_maximo foi do sexo F, e não possui uma diferença elevada entre os dois(F e M). Podemos analisar qual é a média que disponibilizaram de crédito.\n",
        "\n",
        "\n",
        "**O salario anual influência no limite do crédito?**\n",
        "> Query: select sexo, salario_anual, avg (limite_credito) as media_limite\n",
        "from credito\n",
        "where salario_anual !='na'\n",
        "group by sexo, salario_anual, sexo;\n",
        "\n",
        "![image.png](attachment:81977da2-7157-4935-8111-18d0b918e9da.png)\n",
        ">  Sim, os menores salarios anuais (menos que $40K e 40K-60K) são os que apresentam a menor média de limite para ambos sexos.\n",
        "\n"
      ]
    },
    {
      "cell_type": "markdown",
      "id": "a8d7ab26",
      "metadata": {
        "papermill": {
          "duration": 0.010113,
          "end_time": "2022-11-26T17:02:45.933768",
          "exception": false,
          "start_time": "2022-11-26T17:02:45.923655",
          "status": "completed"
        },
        "tags": [],
        "id": "a8d7ab26"
      },
      "source": [
        "# **Conclusão**\n",
        "\n",
        "Essas foram algumas análises extraídas do dataset de crédito.\n",
        "\n",
        "Alguns insights interessantes:\n",
        "\n",
        "* Mesmo o sexo feminino recendo um salário anual inferior ao masculino, não existe uma diferença considerável entre os valores de transações nos últimos 12 meses.\n",
        "\n",
        "* Clientes que recebem salário menor que $40k e  $40K-60K para ambos sexos, tendem a ter um limite menor disponível \n",
        "\n",
        "* A maioria dos clientes são masculino.\n",
        "\n",
        "* Na categoria de escolaridade, mestrado é maioria entre os clientes, sendo ensino médio o segundo maior público.\n",
        "\n",
        "* Clientes femininos são minorias em todos os tipos de escolaridade.\n",
        "\n",
        "*  O cartão blue é o mais usado pelos clientes.\n",
        "\n",
        "* O cartão Platinum só apareceu na faixa salarial de 80K-120K\n",
        "\n",
        "> Fica uma observação, por ser maior o púbilico com menor salario, será que a empresa deveria focar em aumentar os beneficios para esses, visando aumentar os clientes. Além disso, ampliar o público de cartões gold, silver e platinum, já que existe um público considerável para se adequar aos tipos de cartões sugeridos, sendo possível os clientes aproveitarem de maiores benefícios de acordo com seu salário.\n",
        "\n"
      ]
    }
  ],
  "metadata": {
    "kernelspec": {
      "display_name": "Python 3",
      "language": "python",
      "name": "python3"
    },
    "language_info": {
      "codemirror_mode": {
        "name": "ipython",
        "version": 3
      },
      "file_extension": ".py",
      "mimetype": "text/x-python",
      "name": "python",
      "nbconvert_exporter": "python",
      "pygments_lexer": "ipython3",
      "version": "3.7.12"
    },
    "papermill": {
      "default_parameters": {},
      "duration": 9.317804,
      "end_time": "2022-11-26T17:02:46.673278",
      "environment_variables": {},
      "exception": null,
      "input_path": "__notebook__.ipynb",
      "output_path": "__notebook__.ipynb",
      "parameters": {},
      "start_time": "2022-11-26T17:02:37.355474",
      "version": "2.3.4"
    },
    "colab": {
      "provenance": [],
      "include_colab_link": true
    }
  },
  "nbformat": 4,
  "nbformat_minor": 5
}